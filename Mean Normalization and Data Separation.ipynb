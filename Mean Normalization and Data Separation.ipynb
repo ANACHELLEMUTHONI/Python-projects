{
 "cells": [
  {
   "cell_type": "code",
   "execution_count": null,
   "metadata": {},
   "outputs": [],
   "source": [
    "# Mean Normalization\n",
    "\n",
    "In machine learning we use large amounts of data to train our models. Some machine learning algorithms may require that the data is *normalized* in order to work correctly. The idea of normalization, also known as *feature scaling*, is to ensure that all the data is on a similar scale, *i.e.* that all the data takes on a similar range of values. For example, we might have a dataset that has values between 0 and 5,000. By normalizing the data we can make the range of values be between 0 and 1.\n",
    "\n",
    "In this lab, you will be performing a different kind of feature scaling known as *mean normalization*. Mean normalization will scale the data, but instead of making the values be between 0 and 1, it will distribute the values evenly in some small interval around zero. For example, if we have a dataset that has values between 0 and 5,000, after mean normalization the range of values will be distributed in some small range around 0, for example between -3 to 3. Because the range of values are distributed evenly around zero, this guarantees that the average (mean) of all elements will be zero. Therefore, when you perform *mean normalization* your data will not only be scaled but it will also have an average of zero. \n",
    "\n",
    "# To Do:\n",
    "\n",
    "You will start by importing NumPy and creating a rank 2 ndarray of random integers between 0 and 5,000 (inclusive) with 1000 rows and 20 columns. This array will simulate a dataset with a wide range of values. Fill in the code below"
   ]
  },
  {
   "cell_type": "code",
   "execution_count": 2,
   "metadata": {},
   "outputs": [
    {
     "name": "stdout",
     "output_type": "stream",
     "text": [
      "[[2113 1194 3459 ... 1620 3886 4193]\n",
      " [2714 3608 2199 ... 1482 2339 4607]\n",
      " [4651   24  861 ... 3438 4213 1712]\n",
      " ...\n",
      " [1811 1101 3388 ... 4626 4844 1977]\n",
      " [4669 2010 2307 ...  610 3551 4013]\n",
      " [3300 4238 1493 ... 1668 3656 2478]]\n",
      "The shape of X is: (1000, 20)\n"
     ]
    }
   ],
   "source": [
    "# import NumPy into Python\n",
    "import numpy as np\n",
    "\n",
    "\n",
    "# Create a 1000 x 20 ndarray with random integers in the half-open interval [0, 5001).\n",
    "X = np.random.randint(0, 5001 , (1000, 20))\n",
    "print(X)\n",
    "print(\"The shape of X is:\", X.shape)\n",
    "\n",
    "# print the shape of X\n"
   ]
  },
  {
   "cell_type": "markdown",
   "metadata": {},
   "source": [
    "Now that you created the array we will mean normalize it. We will perform mean normalization using the following equation:\n",
    "\n",
    "$\\mbox{Norm_Col}_i = \\frac{\\mbox{Col}_i - \\mu_i}{\\sigma_i}$\n",
    "\n",
    "where $\\mbox{Col}_i$ is the $i$th column of $X$, $\\mu_i$ is average of the values in the $i$th column of $X$, and $\\sigma_i$ is the standard deviation of the values in the $i$th column of $X$. In other words, mean normalization is performed by subtracting from each column of $X$ the average of its values, and then by dividing by the standard deviation of its values. In the space below, you will first calculate the average and standard deviation of each column of $X$. "
   ]
  },
  {
   "cell_type": "code",
   "execution_count": 3,
   "metadata": {},
   "outputs": [
    {
     "name": "stdout",
     "output_type": "stream",
     "text": [
      "The mean of each column of X is: [2545.264 2450.082 2546.903 2481.746 2435.131 2571.966 2474.155 2518.415\n",
      " 2501.22  2628.38  2493.85  2482.605 2424.87  2504.319 2415.45  2408.247\n",
      " 2542.566 2453.358 2535.157 2460.242]\n",
      "The standard deviation of each column of X is: [1432.90100995 1432.96654786 1448.20569036 1431.77576858 1434.1674539\n",
      " 1463.54153369 1421.13381178 1449.39877976 1458.0078853  1441.93455316\n",
      " 1455.52185882 1456.3866262  1454.85410028 1462.26946123 1441.73455445\n",
      " 1438.85561888 1444.73571273 1443.20785885 1439.87761923 1501.71513791]\n"
     ]
    }
   ],
   "source": [
    "# Average of the values in each column of X\n",
    "ave_cols = X.mean(axis = 0)\n",
    "print(\"The mean of each column of X is:\", ave_cols)\n",
    "\n",
    "# Standard Deviation of the values in each column of X\n",
    "std_cols = X.std(axis = 0)\n",
    "print(\"The standard deviation of each column of X is:\", std_cols)"
   ]
  },
  {
   "cell_type": "markdown",
   "metadata": {},
   "source": [
    "If you have done the above calculations correctly, then `ave_cols` and `std_cols`, should both be vectors with shape `(20,)` since $X$ has 20 columns. You can verify this by filling the code below:"
   ]
  },
  {
   "cell_type": "code",
   "execution_count": 4,
   "metadata": {},
   "outputs": [
    {
     "name": "stdout",
     "output_type": "stream",
     "text": [
      "(20,)\n",
      "(20,)\n"
     ]
    }
   ],
   "source": [
    "# Print the shape of ave_cols\n",
    "print(ave_cols.shape)\n",
    "\n",
    "print(std_cols.shape)\n",
    "# Print the shape of std_cols\n"
   ]
  },
  {
   "cell_type": "markdown",
   "metadata": {},
   "source": [
    "You can now take advantage of Broadcasting to calculate the mean normalized version of $X$ in just one line of code using the equation above. Fill in the code below"
   ]
  },
  {
   "cell_type": "code",
   "execution_count": 5,
   "metadata": {},
   "outputs": [
    {
     "name": "stdout",
     "output_type": "stream",
     "text": [
      "[[-0.30167053 -0.87656059  0.62981178 ... -0.57743449  0.93816515\n",
      "   1.15385266]\n",
      " [ 0.11775831  0.80805655 -0.24023038 ... -0.67305482 -0.13623172\n",
      "   1.42953743]\n",
      " [ 1.46956139 -1.69304859 -1.16413229 ...  0.68225931  1.16526778\n",
      "  -0.49825828]\n",
      " ...\n",
      " [-0.51243177 -0.94146092  0.58078559 ...  1.50542556  1.60349947\n",
      "  -0.32179339]\n",
      " [ 1.48212332 -0.30711254 -0.16565534 ... -1.27726439  0.70550649\n",
      "   1.03398971]\n",
      " [ 0.52671887  1.24770393 -0.72773019 ... -0.54417525  0.77842935\n",
      "   0.01182515]]\n"
     ]
    }
   ],
   "source": [
    "# Mean normalize X\n",
    "X_norm = (X - ave_cols)/ std_cols\n",
    "print(X_norm)"
   ]
  },
  {
   "cell_type": "markdown",
   "metadata": {},
   "source": [
    "If you have performed the mean normalization correctly, then the average of all the elements in $X_{\\tiny{\\mbox{norm}}}$ should be close to zero, and they should be evenly distributed in some small interval around zero. You can verify this by filing the code below:"
   ]
  },
  {
   "cell_type": "code",
   "execution_count": 7,
   "metadata": {},
   "outputs": [
    {
     "name": "stdout",
     "output_type": "stream",
     "text": [
      "1.9184653865522706e-17\n",
      "2493.6963\n",
      "1.9184653865522706e-17\n",
      "(1000, 20)\n"
     ]
    }
   ],
   "source": [
    "# Print the average of all the values of X_norm\n",
    "print(np.mean(X_norm))\n",
    "print(np.mean(X))\n",
    "print(X_norm.mean())\n",
    "print(X_norm.shape)\n",
    "\n",
    "# Print the average of the minimum value in each column of X_norm\n",
    "\n",
    "\n",
    "# Print the average of the maximum value in each column of X_norm\n"
   ]
  },
  {
   "cell_type": "markdown",
   "metadata": {},
   "source": [
    "You should note that since $X$ was created using random integers, the above values will vary. \n",
    "\n",
    "# Data Separation\n",
    "\n",
    "After the data has been mean normalized, it is customary in machine learnig to split our dataset into three sets:\n",
    "\n",
    "1. A Training Set\n",
    "2. A Cross Validation Set\n",
    "3. A Test Set\n",
    "\n",
    "The dataset is usually divided such that the Training Set contains 60% of the data, the Cross Validation Set contains 20% of the data, and the Test Set contains 20% of the data. \n",
    "\n",
    "In this part of the lab you will separate `X_norm` into a Training Set, Cross Validation Set, and a Test Set. Each data set will contain rows of `X_norm` chosen at random, making sure that we don't pick the same row twice. This will guarantee that all the rows of `X_norm` are chosen and randomly distributed among the three new sets.\n",
    "\n",
    "You will start by creating a rank 1 ndarray that contains a random permutation of the row indices of `X_norm`. You can do this by using the `np.random.permutation()` function. The `np.random.permutation(N)` function creates a random permutation of integers from 0 to `N - 1`. Let's see an example:"
   ]
  },
  {
   "cell_type": "code",
   "execution_count": 8,
   "metadata": {},
   "outputs": [
    {
     "data": {
      "text/plain": [
       "array([4, 2, 1, 3, 0])"
      ]
     },
     "execution_count": 8,
     "metadata": {},
     "output_type": "execute_result"
    }
   ],
   "source": [
    "# We create a random permutation of integers 0 to 4\n",
    "np.random.permutation(5)\n"
   ]
  },
  {
   "cell_type": "markdown",
   "metadata": {},
   "source": [
    "# To Do\n",
    "\n",
    "In the space below create a rank 1 ndarray that contains a random permutation of the row indices of `X_norm`. You can do this in one line of code by extracting the number of rows of `X_norm` using the `shape` attribute and then passing it to the  `np.random.permutation()` function. Remember the `shape` attribute returns a tuple with two numbers in the form `(rows,columns)`."
   ]
  },
  {
   "cell_type": "code",
   "execution_count": 9,
   "metadata": {},
   "outputs": [
    {
     "name": "stdout",
     "output_type": "stream",
     "text": [
      "[[-0.30167053 -0.87656059  0.62981178 ... -0.57743449  0.93816515\n",
      "   1.15385266]\n",
      " [ 0.11775831  0.80805655 -0.24023038 ... -0.67305482 -0.13623172\n",
      "   1.42953743]\n",
      " [ 1.46956139 -1.69304859 -1.16413229 ...  0.68225931  1.16526778\n",
      "  -0.49825828]\n",
      " ...\n",
      " [-0.51243177 -0.94146092  0.58078559 ...  1.50542556  1.60349947\n",
      "  -0.32179339]\n",
      " [ 1.48212332 -0.30711254 -0.16565534 ... -1.27726439  0.70550649\n",
      "   1.03398971]\n",
      " [ 0.52671887  1.24770393 -0.72773019 ... -0.54417525  0.77842935\n",
      "   0.01182515]]\n"
     ]
    }
   ],
   "source": [
    "# Create a rank 1 ndarray that contains a random permutation of the row indices of `X_norm`\n",
    "print(X_norm)\n",
    "row_indices = np.random.permutation(X_norm.shape[0])\n",
    "print\n",
    "\n",
    "selected_indices = X_norm[row_indices]\n"
   ]
  },
  {
   "cell_type": "markdown",
   "metadata": {},
   "source": [
    "Now you can create the three datasets using the `row_indices` ndarray to select the rows that will go into each dataset. Rememeber that the Training Set contains 60% of the data, the Cross Validation Set contains 20% of the data, and the Test Set contains 20% of the data. Each set requires just one line of code to create. Fill in the code below"
   ]
  },
  {
   "cell_type": "code",
   "execution_count": 10,
   "metadata": {},
   "outputs": [
    {
     "name": "stdout",
     "output_type": "stream",
     "text": [
      "[[ 1.12899355 -0.47389941 -1.52941189 ... -1.20035239 -0.33208169\n",
      "  -0.77660667]\n",
      " [-1.57740415  1.57499699 -0.50193353 ... -0.81024919  1.20485448\n",
      "   1.54274132]\n",
      " [ 0.5253231  -1.56464364 -0.67041789 ...  1.55462152 -0.21679412\n",
      "  -0.80257698]\n",
      " ...\n",
      " [-1.24102362 -0.68116175 -1.50800609 ...  0.88181477 -0.88976798\n",
      "  -1.61764501]\n",
      " [-1.71070017 -1.33156074  0.52761635 ... -1.49137076  1.0485912\n",
      "  -0.61945304]\n",
      " [-0.96326542  1.2407254  -0.10627151 ... -1.43663159 -1.66136133\n",
      "  -0.00215886]]\n"
     ]
    }
   ],
   "source": [
    "# Make any necessary calculations.\n",
    "# You can save your calculations into variables to use later.\n",
    "training_set = int(0.6 * X_norm.shape[0])\n",
    "crossVal_set = int(0.2 * X_norm.shape[0])\n",
    "test_set = int(0.2 * X_norm.shape[0])\n",
    "\n",
    "\n",
    "# Create a Training Set\n",
    "X_train = X_norm[np.random.choice(row_indices, training_set, replace = False)]\n",
    "print(X_train)\n",
    "\n",
    "# Create a Cross Validation Set\n",
    "X_crossVal = X_norm[np.random.choice(row_indices, crossVal_set, replace = False)]\n",
    "\n",
    "# Create a Test Set\n",
    "X_test = X_norm[np.random.choice(row_indices, test_set, replace = False)]"
   ]
  },
  {
   "cell_type": "markdown",
   "metadata": {},
   "source": [
    "If you performed the above calculations correctly, then `X_tain` should have 600 rows and 20 columns, `X_crossVal` should have 200 rows and 20 columns, and `X_test` should have 200 rows and 20 columns. You can verify this by filling the code below:"
   ]
  },
  {
   "cell_type": "code",
   "execution_count": 12,
   "metadata": {},
   "outputs": [
    {
     "name": "stdout",
     "output_type": "stream",
     "text": [
      "(600, 20)\n",
      "(200, 20)\n",
      "(200, 20)\n"
     ]
    }
   ],
   "source": [
    "# Print the shape of X_train\n",
    "print(X_train.shape)\n",
    "# Print the shape of X_crossVal\n",
    "print(X_crossVal.shape)\n",
    "# Print the shape of X_test\n",
    "print(X_test.shape)\n"
   ]
  },
  {
   "cell_type": "code",
   "execution_count": null,
   "metadata": {},
   "outputs": [],
   "source": [
    "\n"
   ]
  },
  {
   "cell_type": "code",
   "execution_count": null,
   "metadata": {},
   "outputs": [],
   "source": []
  }
 ],
 "metadata": {
  "kernelspec": {
   "display_name": "Python 3 (ipykernel)",
   "language": "python",
   "name": "python3"
  },
  "language_info": {
   "codemirror_mode": {
    "name": "ipython",
    "version": 3
   },
   "file_extension": ".py",
   "mimetype": "text/x-python",
   "name": "python",
   "nbconvert_exporter": "python",
   "pygments_lexer": "ipython3",
   "version": "3.11.5"
  }
 },
 "nbformat": 4,
 "nbformat_minor": 2
}

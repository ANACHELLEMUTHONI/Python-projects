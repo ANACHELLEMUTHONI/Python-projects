{
 "cells": [
  {
   "cell_type": "markdown",
   "metadata": {},
   "source": [
    "# Mean Normalization\n",
    "\n",
    "In machine learning we use large amounts of data to train our models. Some machine learning algorithms may require that the data is *normalized* in order to work correctly. The idea of normalization, also known as *feature scaling*, is to ensure that all the data is on a similar scale, *i.e.* that all the data takes on a similar range of values. For example, we might have a dataset that has values between 0 and 5,000. By normalizing the data we can make the range of values be between 0 and 1.\n",
    "\n",
    "In this lab, you will be performing a different kind of feature scaling known as *mean normalization*. Mean normalization will scale the data, but instead of making the values be between 0 and 1, it will distribute the values evenly in some small interval around zero. For example, if we have a dataset that has values between 0 and 5,000, after mean normalization the range of values will be distributed in some small range around 0, for example between -3 to 3. Because the range of values are distributed evenly around zero, this guarantees that the average (mean) of all elements will be zero. Therefore, when you perform *mean normalization* your data will not only be scaled but it will also have an average of zero. \n",
    "\n",
    "# To Do:\n",
    "\n",
    "You will start by importing NumPy and creating a rank 2 ndarray of random integers between 0 and 5,000 (inclusive) with 1000 rows and 20 columns. This array will simulate a dataset with a wide range of values. Fill in the code below"
   ]
  },
  {
   "cell_type": "code",
   "execution_count": 2,
   "metadata": {},
   "outputs": [
    {
     "name": "stdout",
     "output_type": "stream",
     "text": [
      "[[2825 4875 4501 ... 4325  562 4156]\n",
      " [3691  971 3482 ... 4991 2708 1411]\n",
      " [2760 1705  971 ... 2557 3034 3270]\n",
      " ...\n",
      " [ 689 4683 4690 ... 3073  603  468]\n",
      " [2382 2625  732 ...  166  455 2827]\n",
      " [1724 1427 1427 ... 2558 1997 1206]]\n",
      "The shape of X is: (1000, 20)\n"
     ]
    }
   ],
   "source": [
    "# import NumPy into Python\n",
    "import numpy as np\n",
    "\n",
    "\n",
    "# Create a 1000 x 20 ndarray with random integers in the half-open interval [0, 5001).\n",
    "X = np.random.randint(0, 5001 , (1000, 20))\n",
    "print(X)\n",
    "print(\"The shape of X is:\", X.shape)\n",
    "\n",
    "# print the shape of X\n"
   ]
  },
  {
   "cell_type": "markdown",
   "metadata": {},
   "source": [
    "Now that you created the array we will mean normalize it. We will perform mean normalization using the following equation:\n",
    "\n",
    "$\\mbox{Norm_Col}_i = \\frac{\\mbox{Col}_i - \\mu_i}{\\sigma_i}$\n",
    "\n",
    "where $\\mbox{Col}_i$ is the $i$th column of $X$, $\\mu_i$ is average of the values in the $i$th column of $X$, and $\\sigma_i$ is the standard deviation of the values in the $i$th column of $X$. In other words, mean normalization is performed by subtracting from each column of $X$ the average of its values, and then by dividing by the standard deviation of its values. In the space below, you will first calculate the average and standard deviation of each column of $X$. "
   ]
  },
  {
   "cell_type": "code",
   "execution_count": 15,
   "metadata": {},
   "outputs": [
    {
     "name": "stdout",
     "output_type": "stream",
     "text": [
      "The mean of each column of X is: [2442.592 2446.127 2471.075 2537.427 2466.539 2441.707 2496.04  2561.495\n",
      " 2477.858 2473.118 2508.538 2424.335 2457.845 2498.588 2386.544 2456.052\n",
      " 2353.398 2535.906 2445.247 2483.88 ]\n",
      "The standard deviation of each column of X is: [1432.16530454 1443.55058272 1442.38326785 1428.77585809 1400.22909143\n",
      " 1411.93206393 1425.10345393 1452.41053631 1449.54539834 1499.1885959\n",
      " 1461.78529222 1469.33493145 1448.06339329 1489.10519516 1465.92848259\n",
      " 1488.03871633 1451.33230433 1455.23957449 1491.00865322 1468.33016505]\n"
     ]
    }
   ],
   "source": [
    "# Average of the values in each column of X\n",
    "ave_cols = X.mean(axis = 0)\n",
    "print(\"The mean of each column of X is:\", ave_cols)\n",
    "\n",
    "# Standard Deviation of the values in each column of X\n",
    "std_cols = X.std(axis = 0)\n",
    "print(\"The standard deviation of each column of X is:\", std_cols)"
   ]
  },
  {
   "cell_type": "markdown",
   "metadata": {},
   "source": [
    "If you have done the above calculations correctly, then `ave_cols` and `std_cols`, should both be vectors with shape `(20,)` since $X$ has 20 columns. You can verify this by filling the code below:"
   ]
  },
  {
   "cell_type": "code",
   "execution_count": 9,
   "metadata": {},
   "outputs": [
    {
     "name": "stdout",
     "output_type": "stream",
     "text": [
      "(20,)\n",
      "(20,)\n"
     ]
    }
   ],
   "source": [
    "# Print the shape of ave_cols\n",
    "print(ave_cols.shape)\n",
    "\n",
    "print(std_cols.shape)\n",
    "# Print the shape of std_cols\n"
   ]
  },
  {
   "cell_type": "markdown",
   "metadata": {},
   "source": [
    "You can now take advantage of Broadcasting to calculate the mean normalized version of $X$ in just one line of code using the equation above. Fill in the code below"
   ]
  },
  {
   "cell_type": "code",
   "execution_count": 20,
   "metadata": {},
   "outputs": [
    {
     "name": "stdout",
     "output_type": "stream",
     "text": [
      "[[ 0.26701387  1.68256868  1.40734092 ...  1.22941544 -1.26306913\n",
      "   1.1387902 ]\n",
      " [ 0.87169267 -1.02187413  0.70087128 ...  1.68707204  0.176225\n",
      "  -0.73068035]\n",
      " [ 0.22162805 -0.51340563 -1.03999751 ...  0.01449521  0.39486894\n",
      "   0.53538368]\n",
      " ...\n",
      " [-1.22443408  1.5495633   1.53837406 ...  0.369076   -1.23557096\n",
      "  -1.37290648]\n",
      " [-0.04230797  0.12391183 -1.20569549 ... -1.62853323 -1.33483263\n",
      "   0.23368041]\n",
      " [-0.50175214 -0.70598635 -0.72385407 ...  0.01518238 -0.3006334\n",
      "  -0.87029473]]\n"
     ]
    }
   ],
   "source": [
    "# Mean normalize X\n",
    "X_norm = (X - ave_cols)/ std_cols\n",
    "print(X_norm)"
   ]
  },
  {
   "cell_type": "markdown",
   "metadata": {},
   "source": [
    "If you have performed the mean normalization correctly, then the average of all the elements in $X_{\\tiny{\\mbox{norm}}}$ should be close to zero, and they should be evenly distributed in some small interval around zero. You can verify this by filing the code below:"
   ]
  },
  {
   "cell_type": "code",
   "execution_count": 25,
   "metadata": {},
   "outputs": [
    {
     "name": "stdout",
     "output_type": "stream",
     "text": [
      "-5.684341886080802e-18\n",
      "2468.21555\n",
      "-5.684341886080802e-18\n",
      "(1000, 20)\n"
     ]
    }
   ],
   "source": [
    "# Print the average of all the values of X_norm\n",
    "print(np.mean(X_norm))\n",
    "print(np.mean(X))\n",
    "print(X_norm.mean())\n",
    "print(X_norm.shape)\n",
    "\n",
    "# Print the average of the minimum value in each column of X_norm\n",
    "\n",
    "\n",
    "# Print the average of the maximum value in each column of X_norm\n"
   ]
  },
  {
   "cell_type": "markdown",
   "metadata": {},
   "source": [
    "You should note that since $X$ was created using random integers, the above values will vary. \n",
    "\n",
    "# Data Separation\n",
    "\n",
    "After the data has been mean normalized, it is customary in machine learnig to split our dataset into three sets:\n",
    "\n",
    "1. A Training Set\n",
    "2. A Cross Validation Set\n",
    "3. A Test Set\n",
    "\n",
    "The dataset is usually divided such that the Training Set contains 60% of the data, the Cross Validation Set contains 20% of the data, and the Test Set contains 20% of the data. \n",
    "\n",
    "In this part of the lab you will separate `X_norm` into a Training Set, Cross Validation Set, and a Test Set. Each data set will contain rows of `X_norm` chosen at random, making sure that we don't pick the same row twice. This will guarantee that all the rows of `X_norm` are chosen and randomly distributed among the three new sets.\n",
    "\n",
    "You will start by creating a rank 1 ndarray that contains a random permutation of the row indices of `X_norm`. You can do this by using the `np.random.permutation()` function. The `np.random.permutation(N)` function creates a random permutation of integers from 0 to `N - 1`. Let's see an example:"
   ]
  },
  {
   "cell_type": "code",
   "execution_count": 26,
   "metadata": {},
   "outputs": [
    {
     "data": {
      "text/plain": [
       "array([0, 2, 1, 3, 4])"
      ]
     },
     "execution_count": 26,
     "metadata": {},
     "output_type": "execute_result"
    }
   ],
   "source": [
    "# We create a random permutation of integers 0 to 4\n",
    "np.random.permutation(5)\n"
   ]
  },
  {
   "cell_type": "markdown",
   "metadata": {},
   "source": [
    "# To Do\n",
    "\n",
    "In the space below create a rank 1 ndarray that contains a random permutation of the row indices of `X_norm`. You can do this in one line of code by extracting the number of rows of `X_norm` using the `shape` attribute and then passing it to the  `np.random.permutation()` function. Remember the `shape` attribute returns a tuple with two numbers in the form `(rows,columns)`."
   ]
  },
  {
   "cell_type": "code",
   "execution_count": 39,
   "metadata": {},
   "outputs": [
    {
     "name": "stdout",
     "output_type": "stream",
     "text": [
      "[[ 0.26701387  1.68256868  1.40734092 ...  1.22941544 -1.26306913\n",
      "   1.1387902 ]\n",
      " [ 0.87169267 -1.02187413  0.70087128 ...  1.68707204  0.176225\n",
      "  -0.73068035]\n",
      " [ 0.22162805 -0.51340563 -1.03999751 ...  0.01449521  0.39486894\n",
      "   0.53538368]\n",
      " ...\n",
      " [-1.22443408  1.5495633   1.53837406 ...  0.369076   -1.23557096\n",
      "  -1.37290648]\n",
      " [-0.04230797  0.12391183 -1.20569549 ... -1.62853323 -1.33483263\n",
      "   0.23368041]\n",
      " [-0.50175214 -0.70598635 -0.72385407 ...  0.01518238 -0.3006334\n",
      "  -0.87029473]]\n"
     ]
    }
   ],
   "source": [
    "# Create a rank 1 ndarray that contains a random permutation of the row indices of `X_norm`\n",
    "print(X_norm)\n",
    "row_indices = np.random.permutation(X_norm.shape[0])\n",
    "print\n",
    "\n",
    "selected_indices = X_norm[row_indices]\n"
   ]
  },
  {
   "cell_type": "markdown",
   "metadata": {},
   "source": [
    "Now you can create the three datasets using the `row_indices` ndarray to select the rows that will go into each dataset. Rememeber that the Training Set contains 60% of the data, the Cross Validation Set contains 20% of the data, and the Test Set contains 20% of the data. Each set requires just one line of code to create. Fill in the code below"
   ]
  },
  {
   "cell_type": "code",
   "execution_count": 48,
   "metadata": {},
   "outputs": [
    {
     "name": "stdout",
     "output_type": "stream",
     "text": [
      "[[-1.62452755 -0.03957395  0.05055868 ... -0.67130252  0.26475567\n",
      "   0.4121144 ]\n",
      " [ 1.0539342  -0.46837777 -1.40675162 ...  0.10451475 -1.21679173\n",
      "  -1.36813916]\n",
      " [-1.70342906  1.45950757  0.77713395 ... -1.47735537 -0.54073932\n",
      "   1.46024379]\n",
      " ...\n",
      " [ 0.73693169  0.9364916   0.7175104  ... -0.53730397 -0.93174979\n",
      "   0.98964118]\n",
      " [ 0.61404085 -0.60069042 -1.48440089 ... -0.58609319  0.6631437\n",
      "  -1.38788949]\n",
      " [ 1.35557536 -1.4686891   1.41080741 ...  1.56200672 -1.20606074\n",
      "   1.4098464 ]]\n"
     ]
    }
   ],
   "source": [
    "# Make any necessary calculations.\n",
    "# You can save your calculations into variables to use later.\n",
    "training_set = int(0.6 * X_norm.shape[0])\n",
    "crossVal_set = int(0.2 * X_norm.shape[0])\n",
    "test_set = int(0.2 * X_norm.shape[0])\n",
    "\n",
    "\n",
    "# Create a Training Set\n",
    "X_train = X_norm[np.random.choice(row_indices, training_set, replace = False)]\n",
    "print(X_train)\n",
    "\n",
    "# Create a Cross Validation Set\n",
    "X_crossVal = X_norm[np.random.choice(row_indices, crossVal_set, replace = False)]\n",
    "\n",
    "# Create a Test Set\n",
    "X_test = X_norm[np.random.choice(row_indices, test_set, replace = False)]"
   ]
  },
  {
   "cell_type": "markdown",
   "metadata": {},
   "source": [
    "If you performed the above calculations correctly, then `X_tain` should have 600 rows and 20 columns, `X_crossVal` should have 200 rows and 20 columns, and `X_test` should have 200 rows and 20 columns. You can verify this by filling the code below:"
   ]
  },
  {
   "cell_type": "code",
   "execution_count": 51,
   "metadata": {},
   "outputs": [
    {
     "name": "stdout",
     "output_type": "stream",
     "text": [
      "(600, 20)\n",
      "(200, 20)\n",
      "(200, 20)\n"
     ]
    },
    {
     "ename": "NameError",
     "evalue": "name 'Control' is not defined",
     "output_type": "error",
     "traceback": [
      "\u001b[1;31m---------------------------------------------------------------------------\u001b[0m",
      "\u001b[1;31mNameError\u001b[0m                                 Traceback (most recent call last)",
      "Cell \u001b[1;32mIn[51], line 7\u001b[0m\n\u001b[0;32m      5\u001b[0m \u001b[38;5;66;03m# Print the shape of X_test\u001b[39;00m\n\u001b[0;32m      6\u001b[0m \u001b[38;5;28mprint\u001b[39m(X_test\u001b[38;5;241m.\u001b[39mshape)\n\u001b[1;32m----> 7\u001b[0m Control\u001b[38;5;241m-\u001b[39mC\n",
      "\u001b[1;31mNameError\u001b[0m: name 'Control' is not defined"
     ]
    }
   ],
   "source": [
    "# Print the shape of X_train\n",
    "print(X_train.shape)\n",
    "# Print the shape of X_crossVal\n",
    "print(X_crossVal.shape)\n",
    "# Print the shape of X_test\n",
    "print(X_test.shape)\n",
    "Control-C\n"
   ]
  },
  {
   "cell_type": "code",
   "execution_count": 50,
   "metadata": {},
   "outputs": [
    {
     "ename": "NameError",
     "evalue": "name 'Control' is not defined",
     "output_type": "error",
     "traceback": [
      "\u001b[1;31m---------------------------------------------------------------------------\u001b[0m",
      "\u001b[1;31mNameError\u001b[0m                                 Traceback (most recent call last)",
      "Cell \u001b[1;32mIn[50], line 1\u001b[0m\n\u001b[1;32m----> 1\u001b[0m Control\u001b[38;5;241m-\u001b[39mC\n",
      "\u001b[1;31mNameError\u001b[0m: name 'Control' is not defined"
     ]
    }
   ],
   "source": [
    "Control-C\n"
   ]
  },
  {
   "cell_type": "code",
   "execution_count": null,
   "metadata": {},
   "outputs": [],
   "source": []
  }
 ],
 "metadata": {
  "kernelspec": {
   "display_name": "Python 3 (ipykernel)",
   "language": "python",
   "name": "python3"
  },
  "language_info": {
   "codemirror_mode": {
    "name": "ipython",
    "version": 3
   },
   "file_extension": ".py",
   "mimetype": "text/x-python",
   "name": "python",
   "nbconvert_exporter": "python",
   "pygments_lexer": "ipython3",
   "version": "3.11.5"
  }
 },
 "nbformat": 4,
 "nbformat_minor": 2
}
